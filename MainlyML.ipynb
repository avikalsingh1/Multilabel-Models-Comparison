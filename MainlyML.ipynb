{
 "cells": [
  {
   "cell_type": "markdown",
   "metadata": {},
   "source": [
    "# Task 2 Mainly ML\n",
    "By Avikal Singh"
   ]
  },
  {
   "cell_type": "code",
   "execution_count": 71,
   "metadata": {},
   "outputs": [],
   "source": [
    "import numpy as np\n",
    "import pandas as pd\n",
    "import random\n",
    "import tensorflow as tf\n",
    "from tensorflow.keras.preprocessing.text import Tokenizer\n",
    "from tensorflow.keras.preprocessing.sequence import pad_sequences\n",
    "from tensorflow.keras.models import Sequential, load_model\n",
    "from tensorflow.keras.layers import Embedding, LSTM, Dense, Dropout\n",
    "from sklearn.model_selection import train_test_split\n",
    "from sklearn.metrics import precision_recall_fscore_support, accuracy_score\n",
    "from tensorflow.keras.optimizers import Adam \n",
    "from tensorflow.keras.callbacks import EarlyStopping\n",
    "from transformers import BertTokenizer, TFBertForSequenceClassification\n"
   ]
  },
  {
   "cell_type": "markdown",
   "metadata": {},
   "source": [
    "### Data Loading \n",
    "Observing the contents of the dataset"
   ]
  },
  {
   "cell_type": "code",
   "execution_count": 72,
   "metadata": {},
   "outputs": [
    {
     "data": {
      "text/html": [
       "<div>\n",
       "<style scoped>\n",
       "    .dataframe tbody tr th:only-of-type {\n",
       "        vertical-align: middle;\n",
       "    }\n",
       "\n",
       "    .dataframe tbody tr th {\n",
       "        vertical-align: top;\n",
       "    }\n",
       "\n",
       "    .dataframe thead th {\n",
       "        text-align: right;\n",
       "    }\n",
       "</style>\n",
       "<table border=\"1\" class=\"dataframe\">\n",
       "  <thead>\n",
       "    <tr style=\"text-align: right;\">\n",
       "      <th></th>\n",
       "      <th>sID</th>\n",
       "      <th>Obs</th>\n",
       "      <th>Type</th>\n",
       "      <th>A1</th>\n",
       "      <th>A2</th>\n",
       "      <th>A3</th>\n",
       "      <th>B1</th>\n",
       "      <th>B2</th>\n",
       "      <th>B3</th>\n",
       "      <th>B4</th>\n",
       "    </tr>\n",
       "  </thead>\n",
       "  <tbody>\n",
       "    <tr>\n",
       "      <th>0</th>\n",
       "      <td>150668</td>\n",
       "      <td>Observed child fixated on a particular texture...</td>\n",
       "      <td>B3</td>\n",
       "      <td>0</td>\n",
       "      <td>0</td>\n",
       "      <td>0</td>\n",
       "      <td>0</td>\n",
       "      <td>0</td>\n",
       "      <td>1</td>\n",
       "      <td>0</td>\n",
       "    </tr>\n",
       "    <tr>\n",
       "      <th>1</th>\n",
       "      <td>150409</td>\n",
       "      <td>Patient's focus centers on vacuum cleaners, st...</td>\n",
       "      <td>B3</td>\n",
       "      <td>0</td>\n",
       "      <td>0</td>\n",
       "      <td>0</td>\n",
       "      <td>0</td>\n",
       "      <td>0</td>\n",
       "      <td>1</td>\n",
       "      <td>0</td>\n",
       "    </tr>\n",
       "    <tr>\n",
       "      <th>2</th>\n",
       "      <td>150264</td>\n",
       "      <td>Displays a strong interest in smelling various...</td>\n",
       "      <td>B4</td>\n",
       "      <td>0</td>\n",
       "      <td>0</td>\n",
       "      <td>0</td>\n",
       "      <td>0</td>\n",
       "      <td>0</td>\n",
       "      <td>0</td>\n",
       "      <td>1</td>\n",
       "    </tr>\n",
       "    <tr>\n",
       "      <th>3</th>\n",
       "      <td>150373</td>\n",
       "      <td>Patient's attachment to a specific book is evi...</td>\n",
       "      <td>B3</td>\n",
       "      <td>0</td>\n",
       "      <td>0</td>\n",
       "      <td>0</td>\n",
       "      <td>0</td>\n",
       "      <td>0</td>\n",
       "      <td>1</td>\n",
       "      <td>0</td>\n",
       "    </tr>\n",
       "    <tr>\n",
       "      <th>4</th>\n",
       "      <td>150343</td>\n",
       "      <td>Limited awareness of personal boundaries, inva...</td>\n",
       "      <td>A3</td>\n",
       "      <td>0</td>\n",
       "      <td>0</td>\n",
       "      <td>1</td>\n",
       "      <td>0</td>\n",
       "      <td>0</td>\n",
       "      <td>0</td>\n",
       "      <td>0</td>\n",
       "    </tr>\n",
       "  </tbody>\n",
       "</table>\n",
       "</div>"
      ],
      "text/plain": [
       "      sID                                                Obs Type  A1  A2  A3  \\\n",
       "0  150668  Observed child fixated on a particular texture...   B3   0   0   0   \n",
       "1  150409  Patient's focus centers on vacuum cleaners, st...   B3   0   0   0   \n",
       "2  150264  Displays a strong interest in smelling various...   B4   0   0   0   \n",
       "3  150373  Patient's attachment to a specific book is evi...   B3   0   0   0   \n",
       "4  150343  Limited awareness of personal boundaries, inva...   A3   0   0   1   \n",
       "\n",
       "   B1  B2  B3  B4  \n",
       "0   0   0   1   0  \n",
       "1   0   0   1   0  \n",
       "2   0   0   0   1  \n",
       "3   0   0   1   0  \n",
       "4   0   0   0   0  "
      ]
     },
     "execution_count": 72,
     "metadata": {},
     "output_type": "execute_result"
    }
   ],
   "source": [
    "np.random.seed(42) # Using Seed to reproduce same output everytime.\n",
    "tf.random.set_seed(42)\n",
    "data = pd.read_csv(\"Problem_Dataset.csv\") # Reading the data file\n",
    "data.head() "
   ]
  },
  {
   "cell_type": "markdown",
   "metadata": {},
   "source": [
    "Analyzing the word count for each \"Obs\" column <br>\n",
    "We can see average words are approximately 13 and maximum words are 26"
   ]
  },
  {
   "cell_type": "code",
   "execution_count": 73,
   "metadata": {},
   "outputs": [
    {
     "data": {
      "text/plain": [
       "count    1050.000000\n",
       "mean       13.636190\n",
       "std         3.546911\n",
       "min         6.000000\n",
       "25%        11.000000\n",
       "50%        14.000000\n",
       "75%        16.000000\n",
       "max        26.000000\n",
       "Name: Obs, dtype: float64"
      ]
     },
     "execution_count": 73,
     "metadata": {},
     "output_type": "execute_result"
    }
   ],
   "source": [
    "data['Obs'].apply(lambda x: len(x.split())).describe()"
   ]
  },
  {
   "cell_type": "markdown",
   "metadata": {},
   "source": [
    "Checking the data if any null values or missing data exists.<br>\n",
    "Luckily, no missing values!!"
   ]
  },
  {
   "cell_type": "code",
   "execution_count": 74,
   "metadata": {},
   "outputs": [
    {
     "name": "stdout",
     "output_type": "stream",
     "text": [
      "<class 'pandas.core.frame.DataFrame'>\n",
      "RangeIndex: 1050 entries, 0 to 1049\n",
      "Data columns (total 10 columns):\n",
      " #   Column  Non-Null Count  Dtype \n",
      "---  ------  --------------  ----- \n",
      " 0   sID     1050 non-null   int64 \n",
      " 1   Obs     1050 non-null   object\n",
      " 2   Type    1050 non-null   object\n",
      " 3   A1      1050 non-null   int64 \n",
      " 4   A2      1050 non-null   int64 \n",
      " 5   A3      1050 non-null   int64 \n",
      " 6   B1      1050 non-null   int64 \n",
      " 7   B2      1050 non-null   int64 \n",
      " 8   B3      1050 non-null   int64 \n",
      " 9   B4      1050 non-null   int64 \n",
      "dtypes: int64(8), object(2)\n",
      "memory usage: 82.2+ KB\n"
     ]
    },
    {
     "data": {
      "text/html": [
       "<div>\n",
       "<style scoped>\n",
       "    .dataframe tbody tr th:only-of-type {\n",
       "        vertical-align: middle;\n",
       "    }\n",
       "\n",
       "    .dataframe tbody tr th {\n",
       "        vertical-align: top;\n",
       "    }\n",
       "\n",
       "    .dataframe thead th {\n",
       "        text-align: right;\n",
       "    }\n",
       "</style>\n",
       "<table border=\"1\" class=\"dataframe\">\n",
       "  <thead>\n",
       "    <tr style=\"text-align: right;\">\n",
       "      <th></th>\n",
       "      <th>sID</th>\n",
       "      <th>Obs</th>\n",
       "      <th>Type</th>\n",
       "      <th>A1</th>\n",
       "      <th>A2</th>\n",
       "      <th>A3</th>\n",
       "      <th>B1</th>\n",
       "      <th>B2</th>\n",
       "      <th>B3</th>\n",
       "      <th>B4</th>\n",
       "    </tr>\n",
       "  </thead>\n",
       "  <tbody>\n",
       "    <tr>\n",
       "      <th>count</th>\n",
       "      <td>1050</td>\n",
       "      <td>1050</td>\n",
       "      <td>1050</td>\n",
       "      <td>1050</td>\n",
       "      <td>1050</td>\n",
       "      <td>1050</td>\n",
       "      <td>1050</td>\n",
       "      <td>1050</td>\n",
       "      <td>1050</td>\n",
       "      <td>1050</td>\n",
       "    </tr>\n",
       "    <tr>\n",
       "      <th>unique</th>\n",
       "      <td>1</td>\n",
       "      <td>1</td>\n",
       "      <td>1</td>\n",
       "      <td>1</td>\n",
       "      <td>1</td>\n",
       "      <td>1</td>\n",
       "      <td>1</td>\n",
       "      <td>1</td>\n",
       "      <td>1</td>\n",
       "      <td>1</td>\n",
       "    </tr>\n",
       "    <tr>\n",
       "      <th>top</th>\n",
       "      <td>False</td>\n",
       "      <td>False</td>\n",
       "      <td>False</td>\n",
       "      <td>False</td>\n",
       "      <td>False</td>\n",
       "      <td>False</td>\n",
       "      <td>False</td>\n",
       "      <td>False</td>\n",
       "      <td>False</td>\n",
       "      <td>False</td>\n",
       "    </tr>\n",
       "    <tr>\n",
       "      <th>freq</th>\n",
       "      <td>1050</td>\n",
       "      <td>1050</td>\n",
       "      <td>1050</td>\n",
       "      <td>1050</td>\n",
       "      <td>1050</td>\n",
       "      <td>1050</td>\n",
       "      <td>1050</td>\n",
       "      <td>1050</td>\n",
       "      <td>1050</td>\n",
       "      <td>1050</td>\n",
       "    </tr>\n",
       "  </tbody>\n",
       "</table>\n",
       "</div>"
      ],
      "text/plain": [
       "          sID    Obs   Type     A1     A2     A3     B1     B2     B3     B4\n",
       "count    1050   1050   1050   1050   1050   1050   1050   1050   1050   1050\n",
       "unique      1      1      1      1      1      1      1      1      1      1\n",
       "top     False  False  False  False  False  False  False  False  False  False\n",
       "freq     1050   1050   1050   1050   1050   1050   1050   1050   1050   1050"
      ]
     },
     "execution_count": 74,
     "metadata": {},
     "output_type": "execute_result"
    }
   ],
   "source": [
    "data.info()\n",
    "data.isnull().describe()"
   ]
  },
  {
   "cell_type": "markdown",
   "metadata": {},
   "source": [
    "### Data Cleaning and Preprocessing \n",
    "**Tokenizing the data**\n",
    " - Taking max sequence length of 25 because the longest line has 26 words.\n",
    " - Adding padding at the end of words "
   ]
  },
  {
   "cell_type": "code",
   "execution_count": 75,
   "metadata": {},
   "outputs": [],
   "source": [
    "def clean_and_prepare_data(data, max_vocab_size=5000, max_length=25):\n",
    "    # Tokenizing the text \n",
    "    tokenizer = Tokenizer(num_words=max_vocab_size, oov_token='<OOV>') # Out of vocabulary words replaced by <OOV> tag and max vocab words are 5000.\n",
    "    tokenizer.fit_on_texts(data['Obs'])\n",
    "    sequences = tokenizer.texts_to_sequences(data['Obs']) # creating sequences of 25 words each \n",
    "    padded_sequences = pad_sequences(sequences, maxlen=max_length, padding='post', truncating='post') # padding at end of leftover spaces with 0.\n",
    "    \n",
    "    return padded_sequences, tokenizer"
   ]
  },
  {
   "cell_type": "markdown",
   "metadata": {},
   "source": [
    "## Subtask 1: Ensemble Model\n",
    " 1. Using **LSTM Model** as a deep learning model to learn the sequence and assign the label to each\n",
    " 2. LSTM Model \n",
    "    - LSTM layer -> 64 nodes\n",
    "    - Dropout layer (50% drop rate)\n",
    "    - LSTM layer -> 64 nodes \n",
    "    - Dense layer -> 64 nodes | activation function: Relu\n",
    "    - Dropout layer (50% drop rate)\n",
    "    - Last layer -> activation function: Sigmoid (returns binary value)"
   ]
  },
  {
   "cell_type": "code",
   "execution_count": 76,
   "metadata": {},
   "outputs": [],
   "source": [
    "# Model building function\n",
    "def build_lstm_model(input_dim, output_dim=1, input_length=25):\n",
    "    model = Sequential([\n",
    "        Embedding(input_dim=input_dim, output_dim=64, input_length=input_length),\n",
    "        \n",
    "        # Added a LSTM layer with 64 nodes, which processes sequences and returns only the last output\n",
    "        LSTM(64, return_sequences=False),\n",
    "        \n",
    "        # Added a Dropout layer to prevent overfitting \n",
    "        Dropout(0.5),\n",
    "\n",
    "        # Add a Dense layer with 64 units and ReLU activation function\n",
    "        Dense(64, activation='relu'),\n",
    "        Dropout(0.5),\n",
    "\n",
    "        # Added a last layer with sigmoid activation function for binary classification\n",
    "        Dense(output_dim, activation='sigmoid')\n",
    "    ])\n",
    "    \n",
    "    # Compile the model with \n",
    "    # binary cross-entropy as loss, \n",
    "    # Adam optimizer as optimizer, \n",
    "    # accuracy metric to monitor the training process \n",
    "    model.compile(loss='binary_crossentropy', optimizer='adam', metrics=['accuracy'])\n",
    "    return model"
   ]
  },
  {
   "cell_type": "markdown",
   "metadata": {},
   "source": [
    "### Model Training \n",
    " - Training and saving models for all 7 labels\n",
    " - 10 Epochs\n",
    " - Train:Test Split = 80:20\n"
   ]
  },
  {
   "cell_type": "code",
   "execution_count": 77,
   "metadata": {},
   "outputs": [],
   "source": [
    "# Model training function\n",
    "def train_and_save_models(data, labels, tokenizer, label_names, max_length=25, epochs=10, batch_size=32):\n",
    "    for label in label_names:\n",
    "        # Splitting data for the current label\n",
    "        X_train, X_val, y_train, y_val = train_test_split(data, labels[label], test_size=0.2, random_state=42)\n",
    "        \n",
    "        # Building the model\n",
    "        model = build_lstm_model(input_dim=len(tokenizer.word_index) + 1, input_length=max_length)\n",
    "        \n",
    "        # Training the model\n",
    "        model.fit(X_train, y_train, epochs=epochs, batch_size=batch_size, validation_data=(X_val, y_val))\n",
    "        \n",
    "        # Saving the model\n",
    "        model.save(f'{label}_model.h5')\n",
    "        print(f\"Model for {label} saved.\")"
   ]
  },
  {
   "cell_type": "code",
   "execution_count": 78,
   "metadata": {},
   "outputs": [
    {
     "name": "stdout",
     "output_type": "stream",
     "text": [
      "Epoch 1/10\n",
      "27/27 [==============================] - 2s 23ms/step - loss: 0.5268 - accuracy: 0.8452 - val_loss: 0.3995 - val_accuracy: 0.8619\n",
      "Epoch 2/10\n",
      "27/27 [==============================] - 0s 13ms/step - loss: 0.4347 - accuracy: 0.8560 - val_loss: 0.3668 - val_accuracy: 0.8619\n",
      "Epoch 3/10\n",
      "27/27 [==============================] - 0s 13ms/step - loss: 0.2913 - accuracy: 0.8726 - val_loss: 0.2444 - val_accuracy: 0.9048\n",
      "Epoch 4/10\n",
      "27/27 [==============================] - 0s 14ms/step - loss: 0.1907 - accuracy: 0.9405 - val_loss: 0.2739 - val_accuracy: 0.8952\n",
      "Epoch 5/10\n",
      "27/27 [==============================] - 0s 14ms/step - loss: 0.1491 - accuracy: 0.9440 - val_loss: 0.2805 - val_accuracy: 0.9190\n",
      "Epoch 6/10\n",
      "27/27 [==============================] - 0s 14ms/step - loss: 0.1057 - accuracy: 0.9750 - val_loss: 0.3160 - val_accuracy: 0.9048\n",
      "Epoch 7/10\n",
      "27/27 [==============================] - 0s 14ms/step - loss: 0.1417 - accuracy: 0.9571 - val_loss: 0.3304 - val_accuracy: 0.9095\n",
      "Epoch 8/10\n",
      "27/27 [==============================] - 0s 14ms/step - loss: 0.0833 - accuracy: 0.9750 - val_loss: 0.3087 - val_accuracy: 0.9238\n",
      "Epoch 9/10\n",
      "27/27 [==============================] - 0s 14ms/step - loss: 0.0564 - accuracy: 0.9905 - val_loss: 0.3561 - val_accuracy: 0.9143\n",
      "Epoch 10/10\n",
      "27/27 [==============================] - 0s 14ms/step - loss: 0.0390 - accuracy: 0.9940 - val_loss: 0.4392 - val_accuracy: 0.9143\n",
      "Model for A1 saved.\n",
      "Epoch 1/10\n",
      "27/27 [==============================] - 2s 23ms/step - loss: 0.5320 - accuracy: 0.8512 - val_loss: 0.3774 - val_accuracy: 0.8762\n",
      "Epoch 2/10\n",
      "27/27 [==============================] - 0s 13ms/step - loss: 0.4257 - accuracy: 0.8524 - val_loss: 0.3287 - val_accuracy: 0.8762\n",
      "Epoch 3/10\n",
      "27/27 [==============================] - 0s 13ms/step - loss: 0.2571 - accuracy: 0.8726 - val_loss: 0.2600 - val_accuracy: 0.9381\n",
      "Epoch 4/10\n",
      "27/27 [==============================] - 0s 13ms/step - loss: 0.1494 - accuracy: 0.9560 - val_loss: 0.1893 - val_accuracy: 0.9333\n",
      "Epoch 5/10\n",
      "27/27 [==============================] - 0s 13ms/step - loss: 0.1147 - accuracy: 0.9607 - val_loss: 0.2303 - val_accuracy: 0.9381\n",
      "Epoch 6/10\n",
      "27/27 [==============================] - 0s 13ms/step - loss: 0.0789 - accuracy: 0.9714 - val_loss: 0.2437 - val_accuracy: 0.9381\n",
      "Epoch 7/10\n",
      "27/27 [==============================] - 0s 14ms/step - loss: 0.0634 - accuracy: 0.9857 - val_loss: 0.2947 - val_accuracy: 0.9429\n",
      "Epoch 8/10\n",
      "27/27 [==============================] - 0s 13ms/step - loss: 0.0418 - accuracy: 0.9905 - val_loss: 0.3409 - val_accuracy: 0.9429\n",
      "Epoch 9/10\n",
      "27/27 [==============================] - 0s 13ms/step - loss: 0.0358 - accuracy: 0.9929 - val_loss: 0.3632 - val_accuracy: 0.9429\n",
      "Epoch 10/10\n",
      "27/27 [==============================] - 0s 12ms/step - loss: 0.0329 - accuracy: 0.9917 - val_loss: 0.4461 - val_accuracy: 0.9381\n",
      "Model for A2 saved.\n",
      "Epoch 1/10\n",
      "27/27 [==============================] - 2s 22ms/step - loss: 0.5585 - accuracy: 0.8298 - val_loss: 0.4329 - val_accuracy: 0.8524\n",
      "Epoch 2/10\n",
      "27/27 [==============================] - 0s 12ms/step - loss: 0.4401 - accuracy: 0.8583 - val_loss: 0.3973 - val_accuracy: 0.8524\n",
      "Epoch 3/10\n",
      "27/27 [==============================] - 0s 13ms/step - loss: 0.3956 - accuracy: 0.8583 - val_loss: 0.3135 - val_accuracy: 0.8524\n",
      "Epoch 4/10\n",
      "27/27 [==============================] - 0s 12ms/step - loss: 0.2170 - accuracy: 0.9179 - val_loss: 0.2762 - val_accuracy: 0.9286\n",
      "Epoch 5/10\n",
      "27/27 [==============================] - 0s 12ms/step - loss: 0.1283 - accuracy: 0.9583 - val_loss: 0.2553 - val_accuracy: 0.9286\n",
      "Epoch 6/10\n",
      "27/27 [==============================] - 0s 13ms/step - loss: 0.1115 - accuracy: 0.9643 - val_loss: 0.2564 - val_accuracy: 0.9381\n",
      "Epoch 7/10\n",
      "27/27 [==============================] - 0s 13ms/step - loss: 0.0821 - accuracy: 0.9702 - val_loss: 0.3203 - val_accuracy: 0.9190\n",
      "Epoch 8/10\n",
      "27/27 [==============================] - 0s 12ms/step - loss: 0.0608 - accuracy: 0.9833 - val_loss: 0.3451 - val_accuracy: 0.9286\n",
      "Epoch 9/10\n",
      "27/27 [==============================] - 0s 12ms/step - loss: 0.0617 - accuracy: 0.9833 - val_loss: 0.3600 - val_accuracy: 0.9048\n",
      "Epoch 10/10\n",
      "27/27 [==============================] - 0s 12ms/step - loss: 0.0715 - accuracy: 0.9810 - val_loss: 0.3221 - val_accuracy: 0.9190\n",
      "Model for A3 saved.\n",
      "Epoch 1/10\n",
      "27/27 [==============================] - 2s 21ms/step - loss: 0.5415 - accuracy: 0.8333 - val_loss: 0.4689 - val_accuracy: 0.8333\n",
      "Epoch 2/10\n",
      "27/27 [==============================] - 0s 11ms/step - loss: 0.4039 - accuracy: 0.8631 - val_loss: 0.4174 - val_accuracy: 0.8333\n",
      "Epoch 3/10\n",
      "27/27 [==============================] - 0s 13ms/step - loss: 0.2107 - accuracy: 0.9107 - val_loss: 0.1674 - val_accuracy: 0.9619\n",
      "Epoch 4/10\n",
      "27/27 [==============================] - 0s 12ms/step - loss: 0.0663 - accuracy: 0.9905 - val_loss: 0.2290 - val_accuracy: 0.9571\n",
      "Epoch 5/10\n",
      "27/27 [==============================] - 0s 12ms/step - loss: 0.0141 - accuracy: 0.9964 - val_loss: 0.2584 - val_accuracy: 0.9524\n",
      "Epoch 6/10\n",
      "27/27 [==============================] - 0s 13ms/step - loss: 0.0037 - accuracy: 1.0000 - val_loss: 0.3142 - val_accuracy: 0.9571\n",
      "Epoch 7/10\n",
      "27/27 [==============================] - 0s 12ms/step - loss: 0.0016 - accuracy: 1.0000 - val_loss: 0.3490 - val_accuracy: 0.9571\n",
      "Epoch 8/10\n",
      "27/27 [==============================] - 0s 11ms/step - loss: 0.0013 - accuracy: 1.0000 - val_loss: 0.3741 - val_accuracy: 0.9571\n",
      "Epoch 9/10\n",
      "27/27 [==============================] - 0s 12ms/step - loss: 6.6440e-04 - accuracy: 1.0000 - val_loss: 0.3919 - val_accuracy: 0.9571\n",
      "Epoch 10/10\n",
      "27/27 [==============================] - 0s 13ms/step - loss: 6.2385e-04 - accuracy: 1.0000 - val_loss: 0.4063 - val_accuracy: 0.9571\n",
      "Model for B1 saved.\n",
      "Epoch 1/10\n",
      "27/27 [==============================] - 2s 22ms/step - loss: 0.5105 - accuracy: 0.8429 - val_loss: 0.3208 - val_accuracy: 0.8762\n",
      "Epoch 2/10\n",
      "27/27 [==============================] - 0s 13ms/step - loss: 0.2284 - accuracy: 0.9000 - val_loss: 0.2133 - val_accuracy: 0.9238\n",
      "Epoch 3/10\n",
      "27/27 [==============================] - 0s 12ms/step - loss: 0.0909 - accuracy: 0.9762 - val_loss: 0.1363 - val_accuracy: 0.9667\n",
      "Epoch 4/10\n",
      "27/27 [==============================] - 0s 13ms/step - loss: 0.0419 - accuracy: 0.9893 - val_loss: 0.1043 - val_accuracy: 0.9619\n",
      "Epoch 5/10\n",
      "27/27 [==============================] - 0s 12ms/step - loss: 0.0202 - accuracy: 0.9976 - val_loss: 0.1104 - val_accuracy: 0.9667\n",
      "Epoch 6/10\n",
      "27/27 [==============================] - 0s 13ms/step - loss: 0.0097 - accuracy: 0.9988 - val_loss: 0.1654 - val_accuracy: 0.9476\n",
      "Epoch 7/10\n",
      "27/27 [==============================] - 0s 12ms/step - loss: 0.0114 - accuracy: 0.9988 - val_loss: 0.1750 - val_accuracy: 0.9524\n",
      "Epoch 8/10\n",
      "27/27 [==============================] - 0s 13ms/step - loss: 0.0055 - accuracy: 0.9988 - val_loss: 0.2046 - val_accuracy: 0.9571\n",
      "Epoch 9/10\n",
      "27/27 [==============================] - 0s 14ms/step - loss: 0.0015 - accuracy: 1.0000 - val_loss: 0.2727 - val_accuracy: 0.9429\n",
      "Epoch 10/10\n",
      "27/27 [==============================] - 0s 14ms/step - loss: 8.9721e-04 - accuracy: 1.0000 - val_loss: 0.3056 - val_accuracy: 0.9429\n",
      "Model for B2 saved.\n",
      "Epoch 1/10\n",
      "27/27 [==============================] - 2s 24ms/step - loss: 0.5440 - accuracy: 0.8143 - val_loss: 0.4683 - val_accuracy: 0.8286\n",
      "Epoch 2/10\n",
      "27/27 [==============================] - 0s 15ms/step - loss: 0.3592 - accuracy: 0.8643 - val_loss: 0.2858 - val_accuracy: 0.8286\n",
      "Epoch 3/10\n",
      "27/27 [==============================] - 0s 15ms/step - loss: 0.1183 - accuracy: 0.9464 - val_loss: 0.2108 - val_accuracy: 0.9476\n",
      "Epoch 4/10\n",
      "27/27 [==============================] - 0s 15ms/step - loss: 0.0422 - accuracy: 0.9940 - val_loss: 0.1485 - val_accuracy: 0.9571\n",
      "Epoch 5/10\n",
      "27/27 [==============================] - 0s 15ms/step - loss: 0.0141 - accuracy: 0.9976 - val_loss: 0.2469 - val_accuracy: 0.9524\n",
      "Epoch 6/10\n",
      "27/27 [==============================] - 0s 15ms/step - loss: 0.0075 - accuracy: 0.9988 - val_loss: 0.2739 - val_accuracy: 0.9381\n",
      "Epoch 7/10\n",
      "27/27 [==============================] - 0s 15ms/step - loss: 0.0021 - accuracy: 1.0000 - val_loss: 0.3063 - val_accuracy: 0.9476\n",
      "Epoch 8/10\n",
      "27/27 [==============================] - 0s 15ms/step - loss: 0.0011 - accuracy: 1.0000 - val_loss: 0.3315 - val_accuracy: 0.9476\n",
      "Epoch 9/10\n",
      "27/27 [==============================] - 0s 15ms/step - loss: 8.9283e-04 - accuracy: 1.0000 - val_loss: 0.3498 - val_accuracy: 0.9476\n",
      "Epoch 10/10\n",
      "27/27 [==============================] - 0s 15ms/step - loss: 6.7522e-04 - accuracy: 1.0000 - val_loss: 0.3639 - val_accuracy: 0.9476\n",
      "Model for B3 saved.\n",
      "Epoch 1/10\n",
      "27/27 [==============================] - 2s 24ms/step - loss: 0.5431 - accuracy: 0.8417 - val_loss: 0.3766 - val_accuracy: 0.8714\n",
      "Epoch 2/10\n",
      "27/27 [==============================] - 0s 14ms/step - loss: 0.4017 - accuracy: 0.8536 - val_loss: 0.3190 - val_accuracy: 0.8714\n",
      "Epoch 3/10\n",
      "27/27 [==============================] - 0s 14ms/step - loss: 0.1726 - accuracy: 0.9321 - val_loss: 0.1449 - val_accuracy: 0.9476\n",
      "Epoch 4/10\n",
      "27/27 [==============================] - 0s 13ms/step - loss: 0.0455 - accuracy: 0.9905 - val_loss: 0.0854 - val_accuracy: 0.9619\n",
      "Epoch 5/10\n",
      "27/27 [==============================] - 0s 13ms/step - loss: 0.0263 - accuracy: 0.9952 - val_loss: 0.1060 - val_accuracy: 0.9571\n",
      "Epoch 6/10\n",
      "27/27 [==============================] - 0s 13ms/step - loss: 0.0170 - accuracy: 0.9964 - val_loss: 0.1097 - val_accuracy: 0.9667\n",
      "Epoch 7/10\n",
      "27/27 [==============================] - 0s 13ms/step - loss: 0.0092 - accuracy: 0.9988 - val_loss: 0.1381 - val_accuracy: 0.9619\n",
      "Epoch 8/10\n",
      "27/27 [==============================] - 0s 13ms/step - loss: 0.0108 - accuracy: 0.9988 - val_loss: 0.0823 - val_accuracy: 0.9714\n",
      "Epoch 9/10\n",
      "27/27 [==============================] - 0s 13ms/step - loss: 0.0026 - accuracy: 1.0000 - val_loss: 0.1236 - val_accuracy: 0.9667\n",
      "Epoch 10/10\n",
      "27/27 [==============================] - 0s 13ms/step - loss: 0.0013 - accuracy: 1.0000 - val_loss: 0.1698 - val_accuracy: 0.9619\n",
      "Model for B4 saved.\n"
     ]
    }
   ],
   "source": [
    "padded_sequences, tokenizer = clean_and_prepare_data(data)\n",
    "labels = data[['A1', 'A2', 'A3', 'B1', 'B2', 'B3', 'B4']]\n",
    "\n",
    "# Running for 10 epochs\n",
    "train_and_save_models(padded_sequences, labels, tokenizer, labels.columns)\n"
   ]
  },
  {
   "cell_type": "markdown",
   "metadata": {},
   "source": [
    "### Evaluation Time!! \n",
    "**Evaluation Metrics**\n",
    " - Precision\n",
    " - Recall \n",
    " - F1 Score"
   ]
  },
  {
   "cell_type": "code",
   "execution_count": 79,
   "metadata": {},
   "outputs": [
    {
     "name": "stdout",
     "output_type": "stream",
     "text": [
      "33/33 [==============================] - 0s 4ms/step\n",
      "33/33 [==============================] - 0s 4ms/step\n",
      "33/33 [==============================] - 0s 4ms/step\n",
      "33/33 [==============================] - 0s 4ms/step\n",
      "33/33 [==============================] - 0s 4ms/step\n",
      "33/33 [==============================] - 0s 4ms/step\n",
      "33/33 [==============================] - 0s 4ms/step\n",
      "{'A1': {'precision': 0.9507042253521126, 'recall': 0.9, 'f1_score': 0.9246575342465754}, 'A2': {'precision': 0.9523809523809523, 'recall': 0.9333333333333333, 'f1_score': 0.9427609427609428}, 'A3': {'precision': 0.8875, 'recall': 0.9466666666666667, 'f1_score': 0.9161290322580645}, 'B1': {'precision': 0.9795918367346939, 'recall': 0.96, 'f1_score': 0.9696969696969697}, 'B2': {'precision': 0.9539473684210527, 'recall': 0.9666666666666667, 'f1_score': 0.9602649006622517}, 'B3': {'precision': 0.9664429530201343, 'recall': 0.96, 'f1_score': 0.9632107023411371}, 'B4': {'precision': 0.9493670886075949, 'recall': 1.0, 'f1_score': 0.974025974025974}}\n"
     ]
    }
   ],
   "source": [
    "# Load all models\n",
    "def load_and_predict(models, tokenizer, texts, max_length=25):\n",
    "    sequences = tokenizer.texts_to_sequences(texts)\n",
    "    padded_sequences = pad_sequences(sequences, maxlen=max_length, padding='post', truncating='post')\n",
    "    \n",
    "    # Looping through all 7 models\n",
    "    predictions = []\n",
    "    for model_name in models:\n",
    "        model = load_model(model_name)\n",
    "        # predicting and converting the probabilities into binary (0 or 1)\n",
    "        prediction = (model.predict(padded_sequences) > 0.5).astype(int)\n",
    "        predictions.append(prediction)\n",
    "        \n",
    "    return np.hstack(predictions)\n",
    "\n",
    "# Evaluating the ensemble predictions\n",
    "def evaluate_models(models, tokenizer, data, labels, label_names, max_length=25):\n",
    "    predictions = load_and_predict(models, tokenizer, data['Obs'], max_length)\n",
    "    results = {}\n",
    "\n",
    "    # Looping through each label to calculate precision, recall, and F1-score \n",
    "    for i, label in enumerate(label_names):\n",
    "        precision, recall, f1, _ = precision_recall_fscore_support(labels[label], predictions[:, i], average='binary')\n",
    "        results[label] = {\n",
    "            'precision': precision,\n",
    "            'recall': recall,\n",
    "            'f1_score': f1\n",
    "        }\n",
    "    \n",
    "    return results\n",
    "\n",
    "# Define model paths\n",
    "model_names = [f'{label}_model.h5' for label in labels.columns]\n",
    "\n",
    "# Evaluate models\n",
    "results = evaluate_models(model_names, tokenizer, data, labels, labels.columns)\n",
    "print(results)\n",
    "\n",
    "# Save results\n",
    "results_df = pd.DataFrame(results).transpose()\n",
    "results_df.to_csv('subtask1_model_evaluation_results.csv', index=True)\n"
   ]
  },
  {
   "cell_type": "markdown",
   "metadata": {},
   "source": [
    "## Subtask 2: Multi-label Model\n",
    " 1. Using **LSTM Model** as a deep learning model to learn the sequence and assign the label to each\n",
    " 2. LSTM Model with 7 outputs(labels)\n",
    "    - LSTM layer -> 64 nodes\n",
    "    - Dense layer -> 64 nodes | activation function: Relu\n",
    "    - Last layer -> activation function: Sigmoid (returns binary value)"
   ]
  },
  {
   "cell_type": "code",
   "execution_count": 80,
   "metadata": {},
   "outputs": [],
   "source": [
    "# Model building function\n",
    "def build_multilabel_model(input_dim, output_dim=7, input_length=25):\n",
    "    model = Sequential([\n",
    "        Embedding(input_dim=input_dim, output_dim=64, input_length=input_length),\n",
    "        LSTM(64, return_sequences=False),\n",
    "        # Dropout(0.5), removing dropout to avoid randomness as it harmed the predictions\n",
    "        Dense(64, activation='relu'),\n",
    "        # Dropout(0.5),\n",
    "        Dense(output_dim, activation='sigmoid')  # Multiple outputs for multi-label classification\n",
    "    ])\n",
    "    \n",
    "    # Compile the model with \n",
    "    # binary cross-entropy as loss, \n",
    "    # Adam optimizer as optimizer with learning rate as 0.001, \n",
    "    # accuracy metric to monitor the training process\n",
    "    model.compile(loss='binary_crossentropy', optimizer=Adam(learning_rate=0.001), metrics=['accuracy'])\n",
    "    return model"
   ]
  },
  {
   "cell_type": "markdown",
   "metadata": {},
   "source": [
    "### Model Training \n",
    " - Training and saving model\n",
    " - 40 Epochs as there are 7 labels all together.\n",
    " - Train:Test = 80:20\n"
   ]
  },
  {
   "cell_type": "code",
   "execution_count": 81,
   "metadata": {},
   "outputs": [],
   "source": [
    "# Model training function\n",
    "def train_and_save_multilabel_model(data, labels, tokenizer, max_length=25, epochs=40, batch_size=32):\n",
    "    # Split data into training and validation sets\n",
    "    X_train, X_val, y_train, y_val = train_test_split(data, labels, train_size=0.8, test_size=0.2, random_state=42)\n",
    "    \n",
    "    # Build the model\n",
    "    model = build_multilabel_model(input_dim=len(tokenizer.word_index) + 1, input_length=max_length)\n",
    "\n",
    "    # Train the model\n",
    "    model.fit(X_train, y_train, epochs=epochs, batch_size=batch_size, validation_data=(X_val, y_val), shuffle = False)\n",
    "    \n",
    "    # Save the model\n",
    "    model.save('multilabel_model.h5')\n",
    "    print(\"Multi-label model saved.\")\n"
   ]
  },
  {
   "cell_type": "markdown",
   "metadata": {},
   "source": [
    "Running 40 epochs "
   ]
  },
  {
   "cell_type": "code",
   "execution_count": 82,
   "metadata": {},
   "outputs": [
    {
     "name": "stdout",
     "output_type": "stream",
     "text": [
      "Epoch 1/40\n",
      "27/27 [==============================] - 2s 22ms/step - loss: 0.5548 - accuracy: 0.1262 - val_loss: 0.4198 - val_accuracy: 0.1286\n",
      "Epoch 2/40\n",
      "27/27 [==============================] - 0s 13ms/step - loss: 0.4133 - accuracy: 0.1274 - val_loss: 0.4108 - val_accuracy: 0.1714\n",
      "Epoch 3/40\n",
      "27/27 [==============================] - 0s 13ms/step - loss: 0.4119 - accuracy: 0.1345 - val_loss: 0.4121 - val_accuracy: 0.1286\n",
      "Epoch 4/40\n",
      "27/27 [==============================] - 0s 13ms/step - loss: 0.4116 - accuracy: 0.1321 - val_loss: 0.4119 - val_accuracy: 0.1286\n",
      "Epoch 5/40\n",
      "27/27 [==============================] - 0s 14ms/step - loss: 0.4115 - accuracy: 0.1321 - val_loss: 0.4118 - val_accuracy: 0.1286\n",
      "Epoch 6/40\n",
      "27/27 [==============================] - 0s 14ms/step - loss: 0.4115 - accuracy: 0.1321 - val_loss: 0.4117 - val_accuracy: 0.1286\n",
      "Epoch 7/40\n",
      "27/27 [==============================] - 0s 14ms/step - loss: 0.4115 - accuracy: 0.1310 - val_loss: 0.4118 - val_accuracy: 0.1286\n",
      "Epoch 8/40\n",
      "27/27 [==============================] - 0s 14ms/step - loss: 0.4114 - accuracy: 0.1345 - val_loss: 0.4116 - val_accuracy: 0.1286\n",
      "Epoch 9/40\n",
      "27/27 [==============================] - 0s 13ms/step - loss: 0.4113 - accuracy: 0.1321 - val_loss: 0.4116 - val_accuracy: 0.1286\n",
      "Epoch 10/40\n",
      "27/27 [==============================] - 0s 13ms/step - loss: 0.4112 - accuracy: 0.1310 - val_loss: 0.4114 - val_accuracy: 0.1286\n",
      "Epoch 11/40\n",
      "27/27 [==============================] - 0s 13ms/step - loss: 0.4109 - accuracy: 0.1310 - val_loss: 0.4108 - val_accuracy: 0.1286\n",
      "Epoch 12/40\n",
      "27/27 [==============================] - 0s 13ms/step - loss: 0.4089 - accuracy: 0.1917 - val_loss: 0.4042 - val_accuracy: 0.3000\n",
      "Epoch 13/40\n",
      "27/27 [==============================] - 0s 13ms/step - loss: 0.3715 - accuracy: 0.2726 - val_loss: 0.3500 - val_accuracy: 0.2952\n",
      "Epoch 14/40\n",
      "27/27 [==============================] - 0s 13ms/step - loss: 0.3554 - accuracy: 0.2667 - val_loss: 0.3353 - val_accuracy: 0.2667\n",
      "Epoch 15/40\n",
      "27/27 [==============================] - 0s 13ms/step - loss: 0.3319 - accuracy: 0.2940 - val_loss: 0.3200 - val_accuracy: 0.3667\n",
      "Epoch 16/40\n",
      "27/27 [==============================] - 0s 13ms/step - loss: 0.3014 - accuracy: 0.3714 - val_loss: 0.3036 - val_accuracy: 0.3714\n",
      "Epoch 17/40\n",
      "27/27 [==============================] - 0s 13ms/step - loss: 0.2715 - accuracy: 0.4321 - val_loss: 0.3180 - val_accuracy: 0.3952\n",
      "Epoch 18/40\n",
      "27/27 [==============================] - 0s 13ms/step - loss: 0.2328 - accuracy: 0.5679 - val_loss: 0.2693 - val_accuracy: 0.5238\n",
      "Epoch 19/40\n",
      "27/27 [==============================] - 0s 13ms/step - loss: 0.1927 - accuracy: 0.6607 - val_loss: 0.2725 - val_accuracy: 0.5714\n",
      "Epoch 20/40\n",
      "27/27 [==============================] - 0s 13ms/step - loss: 0.1639 - accuracy: 0.7357 - val_loss: 0.3331 - val_accuracy: 0.5619\n",
      "Epoch 21/40\n",
      "27/27 [==============================] - 0s 14ms/step - loss: 0.1547 - accuracy: 0.7464 - val_loss: 0.2925 - val_accuracy: 0.5571\n",
      "Epoch 22/40\n",
      "27/27 [==============================] - 0s 14ms/step - loss: 0.1833 - accuracy: 0.6988 - val_loss: 0.2956 - val_accuracy: 0.5810\n",
      "Epoch 23/40\n",
      "27/27 [==============================] - 0s 14ms/step - loss: 0.1176 - accuracy: 0.7845 - val_loss: 0.2559 - val_accuracy: 0.6714\n",
      "Epoch 24/40\n",
      "27/27 [==============================] - 0s 14ms/step - loss: 0.1039 - accuracy: 0.8143 - val_loss: 0.2731 - val_accuracy: 0.6571\n",
      "Epoch 25/40\n",
      "27/27 [==============================] - 0s 14ms/step - loss: 0.0928 - accuracy: 0.8262 - val_loss: 0.2929 - val_accuracy: 0.6476\n",
      "Epoch 26/40\n",
      "27/27 [==============================] - 0s 14ms/step - loss: 0.0967 - accuracy: 0.8298 - val_loss: 0.2937 - val_accuracy: 0.6476\n",
      "Epoch 27/40\n",
      "27/27 [==============================] - 0s 13ms/step - loss: 0.0996 - accuracy: 0.8095 - val_loss: 0.3386 - val_accuracy: 0.5857\n",
      "Epoch 28/40\n",
      "27/27 [==============================] - 0s 14ms/step - loss: 0.1085 - accuracy: 0.7964 - val_loss: 0.3027 - val_accuracy: 0.5857\n",
      "Epoch 29/40\n",
      "27/27 [==============================] - 0s 14ms/step - loss: 0.1294 - accuracy: 0.7226 - val_loss: 0.2941 - val_accuracy: 0.6286\n",
      "Epoch 30/40\n",
      "27/27 [==============================] - 0s 14ms/step - loss: 0.1032 - accuracy: 0.8179 - val_loss: 0.2823 - val_accuracy: 0.6667\n",
      "Epoch 31/40\n",
      "27/27 [==============================] - 0s 13ms/step - loss: 0.0901 - accuracy: 0.8524 - val_loss: 0.2808 - val_accuracy: 0.6905\n",
      "Epoch 32/40\n",
      "27/27 [==============================] - 0s 13ms/step - loss: 0.1175 - accuracy: 0.8131 - val_loss: 0.3019 - val_accuracy: 0.6857\n",
      "Epoch 33/40\n",
      "27/27 [==============================] - 0s 13ms/step - loss: 0.0996 - accuracy: 0.8298 - val_loss: 0.2969 - val_accuracy: 0.7000\n",
      "Epoch 34/40\n",
      "27/27 [==============================] - 0s 13ms/step - loss: 0.0810 - accuracy: 0.8810 - val_loss: 0.3039 - val_accuracy: 0.7048\n",
      "Epoch 35/40\n",
      "27/27 [==============================] - 0s 13ms/step - loss: 0.0711 - accuracy: 0.9048 - val_loss: 0.2909 - val_accuracy: 0.7381\n",
      "Epoch 36/40\n",
      "27/27 [==============================] - 0s 13ms/step - loss: 0.0660 - accuracy: 0.9107 - val_loss: 0.2954 - val_accuracy: 0.7333\n",
      "Epoch 37/40\n",
      "27/27 [==============================] - 0s 13ms/step - loss: 0.0572 - accuracy: 0.9262 - val_loss: 0.2929 - val_accuracy: 0.7238\n",
      "Epoch 38/40\n",
      "27/27 [==============================] - 0s 13ms/step - loss: 0.0471 - accuracy: 0.9488 - val_loss: 0.2999 - val_accuracy: 0.7524\n",
      "Epoch 39/40\n",
      "27/27 [==============================] - 0s 13ms/step - loss: 0.0404 - accuracy: 0.9607 - val_loss: 0.3334 - val_accuracy: 0.7238\n",
      "Epoch 40/40\n",
      "27/27 [==============================] - 0s 13ms/step - loss: 0.0522 - accuracy: 0.9429 - val_loss: 0.3239 - val_accuracy: 0.7381\n",
      "Multi-label model saved.\n"
     ]
    }
   ],
   "source": [
    "# Train and save the multi-label model\n",
    "train_and_save_multilabel_model(padded_sequences, labels, tokenizer)"
   ]
  },
  {
   "cell_type": "markdown",
   "metadata": {},
   "source": [
    "### Load the multi-label model and predict"
   ]
  },
  {
   "cell_type": "code",
   "execution_count": 83,
   "metadata": {},
   "outputs": [],
   "source": [
    "def load_and_predict_multilabel_model(model_path, tokenizer, texts, max_length=25):\n",
    "    model = load_model(model_path)\n",
    "    sequences = tokenizer.texts_to_sequences(texts)\n",
    "    padded_sequences = pad_sequences(sequences, maxlen=max_length, padding='post', truncating='post')\n",
    "    predictions = (model.predict(padded_sequences) > 0.5).astype(int)\n",
    "    return predictions"
   ]
  },
  {
   "cell_type": "markdown",
   "metadata": {},
   "source": [
    "### Time to see reults !!!"
   ]
  },
  {
   "cell_type": "code",
   "execution_count": 84,
   "metadata": {},
   "outputs": [],
   "source": [
    "# Evaluate the model's performance\n",
    "def evaluate_multilabel_model(model_path, tokenizer, data, labels, label_names, max_length=25):\n",
    "    predictions = load_and_predict_multilabel_model(model_path, tokenizer, data['Obs'], max_length)\n",
    "    results = {}\n",
    "\n",
    "    # Loop through each label to calculate precision, recall, and F1-score\n",
    "    for i, label in enumerate(label_names):\n",
    "        precision, recall, f1, _ = precision_recall_fscore_support(labels[label], predictions[:, i], average='binary')\n",
    "        # Store the results for the current label in the dictionary\n",
    "        results[label] = {\n",
    "            'precision': precision,\n",
    "            'recall': recall,\n",
    "            'f1_score': f1\n",
    "        }\n",
    "    \n",
    "    return results\n"
   ]
  },
  {
   "cell_type": "markdown",
   "metadata": {},
   "source": [
    "Saving the data"
   ]
  },
  {
   "cell_type": "code",
   "execution_count": 85,
   "metadata": {},
   "outputs": [
    {
     "name": "stdout",
     "output_type": "stream",
     "text": [
      "33/33 [==============================] - 0s 4ms/step\n",
      "{'A1': {'precision': 0.8543046357615894, 'recall': 0.86, 'f1_score': 0.8571428571428571}, 'A2': {'precision': 0.9758064516129032, 'recall': 0.8066666666666666, 'f1_score': 0.8832116788321168}, 'A3': {'precision': 0.8023952095808383, 'recall': 0.8933333333333333, 'f1_score': 0.8454258675078864}, 'B1': {'precision': 0.9785714285714285, 'recall': 0.9133333333333333, 'f1_score': 0.9448275862068966}, 'B2': {'precision': 0.9662162162162162, 'recall': 0.9533333333333334, 'f1_score': 0.959731543624161}, 'B3': {'precision': 0.9333333333333333, 'recall': 0.9333333333333333, 'f1_score': 0.9333333333333333}, 'B4': {'precision': 0.9197530864197531, 'recall': 0.9933333333333333, 'f1_score': 0.9551282051282052}}\n"
     ]
    }
   ],
   "source": [
    "# Define model path\n",
    "model_path = 'multilabel_model.h5'\n",
    "\n",
    "# Evaluate the model\n",
    "results = evaluate_multilabel_model(model_path, tokenizer, data, labels, labels.columns)\n",
    "print(results)\n",
    "\n",
    "# Save results\n",
    "results_df = pd.DataFrame(results).transpose()\n",
    "results_df.to_csv('multilabel_model_evaluation_results.csv', index=True)"
   ]
  },
  {
   "cell_type": "markdown",
   "metadata": {},
   "source": [
    "## Subtask 3: BERT Model"
   ]
  },
  {
   "cell_type": "code",
   "execution_count": 96,
   "metadata": {},
   "outputs": [
    {
     "name": "stderr",
     "output_type": "stream",
     "text": [
      "c:\\Users\\avika\\anaconda3\\envs\\DeepTarget2\\lib\\site-packages\\huggingface_hub\\file_download.py:1150: FutureWarning: `resume_download` is deprecated and will be removed in version 1.0.0. Downloads always resume when possible. If you want to force a new download, use `force_download=True`.\n",
      "  warnings.warn(\n"
     ]
    }
   ],
   "source": [
    "# Initializing tokenizer\n",
    "tokenizer = BertTokenizer.from_pretrained('bert-base-uncased')\n",
    "\n",
    "def tokenize_function(texts):\n",
    "    return tokenizer(texts, padding='max_length', truncation=True, max_length=25, return_tensors='tf')\n",
    "\n",
    "# Preparing the data\n",
    "labels = data[['A1', 'A2', 'A3', 'B1', 'B2', 'B3', 'B4']]\n",
    "tokenized_data = tokenize_function(data['Obs'].tolist())\n"
   ]
  },
  {
   "cell_type": "markdown",
   "metadata": {},
   "source": [
    "### Splitting and Preparing TensorFlow Datasets"
   ]
  },
  {
   "cell_type": "code",
   "execution_count": 97,
   "metadata": {},
   "outputs": [],
   "source": [
    "# Ensure input_ids and attention_mask are NumPy arrays\n",
    "input_ids = np.array(tokenized_data['input_ids'])\n",
    "attention_mask = np.array(tokenized_data['attention_mask'])\n",
    "\n",
    "# Split the tokenized data (input_ids and attention_mask) and labels\n",
    "train_ids, test_ids, train_mask, test_mask = train_test_split(\n",
    "    input_ids, attention_mask, test_size=0.2, random_state=42\n",
    ")\n",
    "\n",
    "# Split the labels separately\n",
    "train_labels, test_labels = train_test_split(labels, test_size=0.2, random_state=42)\n",
    "\n",
    "# Create TensorFlow datasets\n",
    "def create_tf_dataset(input_ids, attention_mask, labels):\n",
    "    inputs = {'input_ids': input_ids, 'attention_mask': attention_mask}\n",
    "    dataset = tf.data.Dataset.from_tensor_slices((inputs, labels.values))\n",
    "    dataset = dataset.shuffle(1000).batch(32).prefetch(tf.data.AUTOTUNE)\n",
    "    return dataset\n",
    "\n",
    "train_dataset = create_tf_dataset(train_ids, train_mask, train_labels)\n",
    "test_dataset = create_tf_dataset(test_ids, test_mask, test_labels)"
   ]
  },
  {
   "cell_type": "markdown",
   "metadata": {},
   "source": [
    "Honestly, I tried to use GPU for faster computation but it didn't go well and caused version mismatch between many libraries. <br> So, I dropped the idea and now it can take around 20-30 mins to execute.  "
   ]
  },
  {
   "cell_type": "code",
   "execution_count": 95,
   "metadata": {},
   "outputs": [],
   "source": [
    "# Check if TensorFlow is using GPU\n",
    "# print(\"Num GPUs Available: \", len(tf.config.experimental.list_physical_devices('GPU')))"
   ]
  },
  {
   "cell_type": "markdown",
   "metadata": {},
   "source": [
    "### Fine-Tuning BERT Model\n",
    " - 20 Epochs\n",
    " - Loss: Binary Crossentropy "
   ]
  },
  {
   "cell_type": "code",
   "execution_count": 89,
   "metadata": {},
   "outputs": [
    {
     "name": "stderr",
     "output_type": "stream",
     "text": [
      "c:\\Users\\avika\\anaconda3\\envs\\DeepTarget2\\lib\\site-packages\\huggingface_hub\\file_download.py:1150: FutureWarning: `resume_download` is deprecated and will be removed in version 1.0.0. Downloads always resume when possible. If you want to force a new download, use `force_download=True`.\n",
      "  warnings.warn(\n",
      "All PyTorch model weights were used when initializing TFBertForSequenceClassification.\n",
      "\n",
      "Some weights or buffers of the TF 2.0 model TFBertForSequenceClassification were not initialized from the PyTorch model and are newly initialized: ['classifier.weight', 'classifier.bias']\n",
      "You should probably TRAIN this model on a down-stream task to be able to use it for predictions and inference.\n"
     ]
    },
    {
     "name": "stdout",
     "output_type": "stream",
     "text": [
      "Epoch 1/20\n",
      "27/27 [==============================] - 102s 3s/step - loss: 1.3198 - accuracy: 0.1702 - val_loss: 1.1070 - val_accuracy: 0.2667\n",
      "Epoch 2/20\n",
      "27/27 [==============================] - 85s 3s/step - loss: 0.9513 - accuracy: 0.2917 - val_loss: 0.6491 - val_accuracy: 0.2810\n",
      "Epoch 3/20\n",
      "27/27 [==============================] - 87s 3s/step - loss: 0.8683 - accuracy: 0.2190 - val_loss: 0.9510 - val_accuracy: 0.1429\n",
      "Epoch 4/20\n",
      "27/27 [==============================] - 84s 3s/step - loss: 0.7384 - accuracy: 0.2833 - val_loss: 0.6261 - val_accuracy: 0.4286\n",
      "Epoch 5/20\n",
      "27/27 [==============================] - 84s 3s/step - loss: 0.6600 - accuracy: 0.3643 - val_loss: 0.5908 - val_accuracy: 0.5333\n",
      "Epoch 6/20\n",
      "27/27 [==============================] - 85s 3s/step - loss: 0.6096 - accuracy: 0.4333 - val_loss: 0.5802 - val_accuracy: 0.5381\n",
      "Epoch 7/20\n",
      "27/27 [==============================] - 84s 3s/step - loss: 0.6520 - accuracy: 0.3619 - val_loss: 0.6257 - val_accuracy: 0.4190\n",
      "Epoch 8/20\n",
      "27/27 [==============================] - 85s 3s/step - loss: 0.6120 - accuracy: 0.4869 - val_loss: 0.5676 - val_accuracy: 0.6095\n",
      "Epoch 9/20\n",
      "27/27 [==============================] - 85s 3s/step - loss: 0.5604 - accuracy: 0.5655 - val_loss: 0.5372 - val_accuracy: 0.6524\n",
      "Epoch 10/20\n",
      "27/27 [==============================] - 85s 3s/step - loss: 0.5384 - accuracy: 0.5988 - val_loss: 0.5727 - val_accuracy: 0.5048\n",
      "Epoch 11/20\n",
      "27/27 [==============================] - 84s 3s/step - loss: 0.5315 - accuracy: 0.5357 - val_loss: 0.5129 - val_accuracy: 0.6190\n",
      "Epoch 12/20\n",
      "27/27 [==============================] - 85s 3s/step - loss: 0.2955 - accuracy: 0.6571 - val_loss: 0.2412 - val_accuracy: 0.6667\n",
      "Epoch 13/20\n",
      "27/27 [==============================] - 85s 3s/step - loss: 0.2533 - accuracy: 0.6607 - val_loss: 0.2462 - val_accuracy: 0.6619\n",
      "Epoch 14/20\n",
      "27/27 [==============================] - 85s 3s/step - loss: 0.2142 - accuracy: 0.6905 - val_loss: 0.2226 - val_accuracy: 0.7048\n",
      "Epoch 15/20\n",
      "27/27 [==============================] - 85s 3s/step - loss: 0.2012 - accuracy: 0.7548 - val_loss: 0.2221 - val_accuracy: 0.7524\n",
      "Epoch 16/20\n",
      "27/27 [==============================] - 84s 3s/step - loss: 0.1840 - accuracy: 0.7333 - val_loss: 0.2395 - val_accuracy: 0.7476\n",
      "Epoch 17/20\n",
      "27/27 [==============================] - 84s 3s/step - loss: 0.1751 - accuracy: 0.7750 - val_loss: 0.2333 - val_accuracy: 0.7429\n",
      "Epoch 18/20\n",
      "27/27 [==============================] - 85s 3s/step - loss: 0.1581 - accuracy: 0.8071 - val_loss: 0.2247 - val_accuracy: 0.7762\n",
      "Epoch 19/20\n",
      "27/27 [==============================] - 84s 3s/step - loss: 0.1528 - accuracy: 0.7917 - val_loss: 0.2197 - val_accuracy: 0.7857\n",
      "Epoch 20/20\n",
      "27/27 [==============================] - 84s 3s/step - loss: 0.1507 - accuracy: 0.8357 - val_loss: 0.2216 - val_accuracy: 0.7762\n"
     ]
    }
   ],
   "source": [
    "# Load pre-trained BERT model\n",
    "model = TFBertForSequenceClassification.from_pretrained('bert-base-uncased', num_labels=7, problem_type=\"multi_label_classification\")\n",
    "\n",
    "# Compile model using the standard TensorFlow optimizer\n",
    "model.compile(\n",
    "    optimizer=tf.keras.optimizers.Adam(learning_rate=2e-5),  # Standard Adam optimizer\n",
    "    loss='binary_crossentropy',\n",
    "    metrics=['accuracy']\n",
    ")\n",
    "\n",
    "# Train model with class weights\n",
    "with tf.device('/GPU:0'):  # Sadly, it is just an extra useless line for now.\n",
    "    model.fit(train_dataset, epochs=20, validation_data=test_dataset)\n"
   ]
  },
  {
   "cell_type": "markdown",
   "metadata": {},
   "source": [
    "Accuracy seems fine!!!"
   ]
  },
  {
   "cell_type": "markdown",
   "metadata": {},
   "source": [
    "### Evaluating BERT Model Performance on Test Data"
   ]
  },
  {
   "cell_type": "code",
   "execution_count": 90,
   "metadata": {},
   "outputs": [
    {
     "name": "stdout",
     "output_type": "stream",
     "text": [
      "7/7 [==============================] - 9s 1s/step\n",
      "       precision    recall  f1_score\n",
      "0  A1   0.128205  0.344828  0.186916\n",
      "1  A2   0.107843  0.423077  0.171875\n",
      "2  A3   0.168539  0.483871  0.250000\n",
      "3  B1   0.148148  0.228571  0.179775\n",
      "4  B2   0.115385  0.346154  0.173077\n",
      "5  B3   0.169014  0.333333  0.224299\n",
      "6  B4   0.078125  0.185185  0.109890\n",
      "Overall Accuracy: 0.0286\n"
     ]
    }
   ],
   "source": [
    "# Evaluate model\n",
    "predictions = model.predict(test_dataset)\n",
    "y_pred = np.round(tf.nn.sigmoid(predictions.logits).numpy())  # Sigmoid to convert logits to probabilities\n",
    "\n",
    "y_true = test_labels.values\n",
    "\n",
    "# Calculate precision, recall, F1-score for each label\n",
    "precision, recall, f1_score, _ = precision_recall_fscore_support(y_true, y_pred, average=None)\n",
    "\n",
    "# Calculate accuracy (optional)\n",
    "accuracy = accuracy_score(y_true, y_pred)\n",
    "\n",
    "# Print metrics for each label\n",
    "metrics = {\n",
    "    '': test_labels.columns,\n",
    "    'precision': precision,\n",
    "    'recall': recall,\n",
    "    'f1_score': f1_score\n",
    "}\n",
    "metrics_df = pd.DataFrame(metrics)\n",
    "\n",
    "# Save metrics to CSV\n",
    "metrics_df.to_csv('metrics_per_label.csv', index=False)\n",
    "\n",
    "# Print metrics for verification\n",
    "print(metrics_df)\n",
    "print(f'Overall Accuracy: {accuracy:.4f}')"
   ]
  },
  {
   "cell_type": "markdown",
   "metadata": {},
   "source": [
    "Results don't seem to be fine."
   ]
  },
  {
   "cell_type": "markdown",
   "metadata": {},
   "source": [
    "## Subtask 4: Plotting and Visualizing the Data "
   ]
  },
  {
   "cell_type": "code",
   "execution_count": 91,
   "metadata": {},
   "outputs": [],
   "source": [
    "import matplotlib.pyplot as plt\n",
    "\n",
    "# Load results and assigning one value to each type of result\n",
    "ensemble_results = pd.read_csv('subtask1_model_evaluation_results.csv', index_col=0)\n",
    "multilabel_results = pd.read_csv('multilabel_model_evaluation_results.csv', index_col=0)\n",
    "bert_results = pd.read_csv('metrics_per_label.csv', index_col=0)\n"
   ]
  },
  {
   "cell_type": "markdown",
   "metadata": {},
   "source": [
    "### Organizing Model Performance Metrics for Analysis"
   ]
  },
  {
   "cell_type": "code",
   "execution_count": 92,
   "metadata": {},
   "outputs": [],
   "source": [
    "# Extracting the data\n",
    "labels = ensemble_results.index.tolist()\n",
    "\n",
    "# Assigning each metric to a specific variable.\n",
    "ensemble_precision = ensemble_results['precision'].tolist()\n",
    "ensemble_recall = ensemble_results['recall'].tolist()\n",
    "ensemble_f1 = ensemble_results['f1_score'].tolist()\n",
    "\n",
    "multilabel_precision = multilabel_results['precision'].tolist()\n",
    "multilabel_recall = multilabel_results['recall'].tolist()\n",
    "multilabel_f1 = multilabel_results['f1_score'].tolist()\n",
    "\n",
    "bert_precision = bert_results['precision'].tolist()\n",
    "bert_recall = bert_results['recall'].tolist()\n",
    "bert_f1 = bert_results['f1_score'].tolist()\n"
   ]
  },
  {
   "cell_type": "markdown",
   "metadata": {},
   "source": [
    "### Label-Wise Comparison of Precision, Recall, and F1 Scores"
   ]
  },
  {
   "cell_type": "code",
   "execution_count": 93,
   "metadata": {},
   "outputs": [
    {
     "data": {
      "image/png": "[encoded data removed]",
      "text/plain": [
       "<Figure size 1200x600 with 1 Axes>"
      ]
     },
     "metadata": {},
     "output_type": "display_data"
    },
    {
     "data": {
      "image/png": "[encoded data removed]",
      "text/plain": [
       "<Figure size 1200x600 with 1 Axes>"
      ]
     },
     "metadata": {},
     "output_type": "display_data"
    },
    {
     "data": {
      "image/png": "[encoded data removed]",
      "text/plain": [
       "<Figure size 1200x600 with 1 Axes>"
      ]
     },
     "metadata": {},
     "output_type": "display_data"
    }
   ],
   "source": [
    "# Plot Precision\n",
    "plt.figure(figsize=(12, 6))\n",
    "plt.plot(labels, ensemble_precision, marker='o', label='Ensemble Precision')\n",
    "plt.plot(labels, multilabel_precision, marker='o', label='Multi-label Precision')\n",
    "plt.plot(labels, bert_precision, marker='o', label='BERT Precision')\n",
    "plt.xlabel('Labels')\n",
    "plt.ylabel('Precision')\n",
    "plt.title('Label-wise Precision Comparison')\n",
    "plt.xticks(rotation=45)\n",
    "plt.legend()\n",
    "plt.grid(True)\n",
    "plt.tight_layout()\n",
    "plt.savefig('precision_comparison.png')\n",
    "plt.show()\n",
    "\n",
    "# Plot Recall\n",
    "plt.figure(figsize=(12, 6))\n",
    "plt.plot(labels, ensemble_recall, marker='o', label='Ensemble Recall')\n",
    "plt.plot(labels, multilabel_recall, marker='o', label='Multi-label Recall')\n",
    "plt.plot(labels, bert_recall, marker='o', label='BERT Recall')\n",
    "plt.xlabel('Labels')\n",
    "plt.ylabel('Recall')\n",
    "plt.title('Label-wise Recall Comparison')\n",
    "plt.xticks(rotation=45)\n",
    "plt.legend()\n",
    "plt.grid(True)\n",
    "plt.tight_layout()\n",
    "plt.savefig('recall_comparison.png')\n",
    "plt.show()\n",
    "\n",
    "# Plot F1 Score\n",
    "plt.figure(figsize=(12, 6))\n",
    "plt.plot(labels, ensemble_f1, marker='o', label='Ensemble F1 Score')\n",
    "plt.plot(labels, multilabel_f1, marker='o', label='Multi-label F1 Score')\n",
    "plt.plot(labels, bert_f1, marker='o', label='BERT F1 Score')\n",
    "plt.xlabel('Labels')\n",
    "plt.ylabel('F1 Score')\n",
    "plt.title('Label-wise F1 Score Comparison')\n",
    "plt.xticks(rotation=45)\n",
    "plt.legend()\n",
    "plt.grid(True)\n",
    "plt.tight_layout()\n",
    "plt.savefig('f1_score_comparison.png')\n",
    "plt.show()"
   ]
  },
  {
   "cell_type": "markdown",
   "metadata": {},
   "source": [
    "## Conclusion\n",
    " - Ensemble and Multilabel Models have performed well\n",
    " - BERT model did not stood up to the mark, reasons:\n",
    "    - The performance of BERT could have been affected by how the input data was preprocessed.\n",
    "    - Tokenization and padding may have impacted BERT's effectiveness\n",
    "    - May be longer training time could have improved the performance (*reason why I was looking for a GPU access*)"
   ]
  }
 ],
 "metadata": {
  "kernelspec": {
   "display_name": "DeepTarget2",
   "language": "python",
   "name": "python3"
  },
  "language_info": {
   "codemirror_mode": {
    "name": "ipython",
    "version": 3
   },
   "file_extension": ".py",
   "mimetype": "text/x-python",
   "name": "python",
   "nbconvert_exporter": "python",
   "pygments_lexer": "ipython3",
   "version": "3.10.14"
  }
 },
 "nbformat": 4,
 "nbformat_minor": 2
}
